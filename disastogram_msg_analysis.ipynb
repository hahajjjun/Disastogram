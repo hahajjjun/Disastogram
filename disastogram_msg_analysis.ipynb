{
  "nbformat": 4,
  "nbformat_minor": 0,
  "metadata": {
    "colab": {
      "name": "disastogram_msg_analysis",
      "provenance": []
    },
    "kernelspec": {
      "name": "python3",
      "display_name": "Python 3"
    },
    "language_info": {
      "name": "python"
    }
  },
  "cells": [
    {
      "cell_type": "code",
      "metadata": {
        "id": "9UNBkrwqfWy7"
      },
      "source": [
        "import pandas as pd"
      ],
      "execution_count": 1,
      "outputs": []
    },
    {
      "cell_type": "code",
      "metadata": {
        "id": "Kw60VOTregYT"
      },
      "source": [
        "path = \"/content/drive/MyDrive/NLP_Project/안전안내문자_완성본.csv\"\n",
        "df = pd.read_csv(path)"
      ],
      "execution_count": 108,
      "outputs": []
    },
    {
      "cell_type": "code",
      "metadata": {
        "id": "ZA2GXTtMfbeC"
      },
      "source": [
        "df = df.drop(columns = ['Unnamed: 5','Unnamed: 6','Unnamed: 7','Unnamed: 8'])"
      ],
      "execution_count": 109,
      "outputs": []
    },
    {
      "cell_type": "code",
      "metadata": {
        "id": "H9Av3ipBf4Jq"
      },
      "source": [
        "df.columns = ['장소', '텍스트', 'Class', 'Label', '비고']"
      ],
      "execution_count": 110,
      "outputs": []
    },
    {
      "cell_type": "code",
      "metadata": {
        "id": "PzbGauTgf1jj"
      },
      "source": [
        "df_covid = df[df['Label']==1]"
      ],
      "execution_count": 111,
      "outputs": []
    },
    {
      "cell_type": "code",
      "metadata": {
        "colab": {
          "base_uri": "https://localhost:8080/"
        },
        "id": "fWrxHpe3mSse",
        "outputId": "7314a4fc-5ca5-4cd9-ecd5-8cb50069d765"
      },
      "source": [
        "df_covid.Class = df_covid.Class.fillna(0)"
      ],
      "execution_count": 113,
      "outputs": [
        {
          "output_type": "stream",
          "name": "stderr",
          "text": [
            "/usr/local/lib/python3.7/dist-packages/pandas/core/generic.py:5170: SettingWithCopyWarning: \n",
            "A value is trying to be set on a copy of a slice from a DataFrame.\n",
            "Try using .loc[row_indexer,col_indexer] = value instead\n",
            "\n",
            "See the caveats in the documentation: https://pandas.pydata.org/pandas-docs/stable/user_guide/indexing.html#returning-a-view-versus-a-copy\n",
            "  self[name] = value\n"
          ]
        }
      ]
    },
    {
      "cell_type": "code",
      "metadata": {
        "colab": {
          "base_uri": "https://localhost:8080/"
        },
        "id": "pHIeOFsDgdYG",
        "outputId": "98ef01d5-19e2-4204-8930-6c8e7660df3a"
      },
      "source": [
        "df_covid['Class'] = df_covid['Class'].astype(int)"
      ],
      "execution_count": 114,
      "outputs": [
        {
          "output_type": "stream",
          "name": "stderr",
          "text": [
            "/usr/local/lib/python3.7/dist-packages/ipykernel_launcher.py:1: SettingWithCopyWarning: \n",
            "A value is trying to be set on a copy of a slice from a DataFrame.\n",
            "Try using .loc[row_indexer,col_indexer] = value instead\n",
            "\n",
            "See the caveats in the documentation: https://pandas.pydata.org/pandas-docs/stable/user_guide/indexing.html#returning-a-view-versus-a-copy\n",
            "  \"\"\"Entry point for launching an IPython kernel.\n"
          ]
        }
      ]
    },
    {
      "cell_type": "code",
      "metadata": {
        "colab": {
          "base_uri": "https://localhost:8080/"
        },
        "id": "69zfz3uZjE7p",
        "outputId": "23938a04-f771-44a7-c4e6-4ad7a8ce263d"
      },
      "source": [
        "df_covid['Label'] = df_covid['Class'].astype(bool)"
      ],
      "execution_count": 115,
      "outputs": [
        {
          "output_type": "stream",
          "name": "stderr",
          "text": [
            "/usr/local/lib/python3.7/dist-packages/ipykernel_launcher.py:1: SettingWithCopyWarning: \n",
            "A value is trying to be set on a copy of a slice from a DataFrame.\n",
            "Try using .loc[row_indexer,col_indexer] = value instead\n",
            "\n",
            "See the caveats in the documentation: https://pandas.pydata.org/pandas-docs/stable/user_guide/indexing.html#returning-a-view-versus-a-copy\n",
            "  \"\"\"Entry point for launching an IPython kernel.\n"
          ]
        }
      ]
    },
    {
      "cell_type": "code",
      "metadata": {
        "colab": {
          "base_uri": "https://localhost:8080/"
        },
        "id": "mwqgZ_6DjMar",
        "outputId": "9a6593b8-e748-4f24-cf19-a60557a0e592"
      },
      "source": [
        "df_covid_1 = df_covid[df_covid['Class']==1]\n",
        "df_covid_2 = df_covid[df_covid['Class']==2]\n",
        "df_covid_3 = df_covid[df_covid['Class']==3]\n",
        "df_covid_4 = df_covid[df_covid['Class']==4]\n",
        "df_covid_5 = df_covid[df_covid['Class']==5]\n",
        "df_covid_6 = df_covid[df_covid['Class']==6]\n",
        "df_covid_7 = df_covid[df_covid['Class']==7]\n",
        "print(len(df_covid), len(df_covid_1), len(df_covid_2), len(df_covid_3), len(df_covid_4), len(df_covid_5), len(df_covid_6), len(df_covid_7))"
      ],
      "execution_count": 116,
      "outputs": [
        {
          "output_type": "stream",
          "name": "stdout",
          "text": [
            "1649 86 266 444 207 581 57 1\n"
          ]
        }
      ]
    },
    {
      "cell_type": "code",
      "metadata": {
        "id": "N1rRPtWWmv-l"
      },
      "source": [
        "df_covid.to_csv(r'/content/drive/MyDrive/NLP_Project/covid.csv', header=False)\n",
        "df_covid_1.to_csv(r'/content/drive/MyDrive/NLP_Project/covid_1.csv',header=False)\n",
        "df_covid_2.to_csv(r'/content/drive/MyDrive/NLP_Project/covid_2.csv',header=False)\n",
        "df_covid_3.to_csv(r'/content/drive/MyDrive/NLP_Project/covid_3.csv', header=False)\n",
        "df_covid_4.to_csv(r'/content/drive/MyDrive/NLP_Project/covid_4.csv',header=False)\n",
        "df_covid_5.to_csv(r'/content/drive/MyDrive/NLP_Project/covid_5.csv',header=False)\n",
        "df_covid_6.to_csv(r'/content/drive/MyDrive/NLP_Project/covid_6.csv',header=False)\n",
        "df_covid_7.to_csv(r'/content/drive/MyDrive/NLP_Project/covid_7.csv',header=False)"
      ],
      "execution_count": 119,
      "outputs": []
    }
  ]
}